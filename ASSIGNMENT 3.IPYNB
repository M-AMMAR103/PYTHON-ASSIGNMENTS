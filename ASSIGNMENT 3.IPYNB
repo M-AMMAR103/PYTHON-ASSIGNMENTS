{
 "cells": [
  {
   "cell_type": "markdown",
   "id": "8fc75797",
   "metadata": {},
   "source": [
    "1. Encapsulation:\n",
    "\n",
    "    Create a class OnlineOrder with the following:\n",
    "    Private attributes: __order_id, __items (list), __status (pending, shipped, delivered)\n",
    "    Public methods:\n",
    "    add_item(item_name)\n",
    "    remove_item(item_name)\n",
    "    update_status(new_status) — only allow valid statuses\n",
    "    get_order_summary() — return order ID, items, and status"
   ]
  },
  {
   "cell_type": "code",
   "execution_count": null,
   "id": "cc46f0ea",
   "metadata": {},
   "outputs": [],
   "source": [
    "class OnlineOrder:\n",
    "    def __init__(self, order_id):\n",
    "        self.__order_id = order_id\n",
    "        self.__items = []\n",
    "        self.__status = \"pending\"\n",
    "        self.__valid_statuses = {\"pending\", \"shipped\", \"delivered\"}\n",
    "\n",
    "    def add_item(self, item_name):\n",
    "        self.__items.append(item_name)\n",
    "\n",
    "    def remove_item(self, item_name):\n",
    "        if item_name in self.__items:\n",
    "            self.__items.remove(item_name)\n",
    "        else:\n",
    "            print(f\"Item '{item_name}' not found in order.\")\n",
    "\n",
    "    def update_status(self, new_status):\n",
    "        if new_status in self.__valid_statuses:\n",
    "            self.__status = new_status\n",
    "        else:\n",
    "            print(f\"Invalid status '{new_status}'. Valid statuses are: {', '.join(self.__valid_statuses)}.\")\n",
    "\n",
    "    def get_order_summary(self):\n",
    "        return {\n",
    "            \"Order ID\": self.__order_id,\n",
    "            \"Items\": self.__items.copy(),\n",
    "            \"Status\": self.__status\n",
    "        }\n",
    "order = OnlineOrder(101)\n",
    "order.add_item(\"Laptop\")\n",
    "order.add_item(\"Mouse\")\n",
    "order.remove_item(\"Keyboard\")  \n",
    "order.update_status(\"shipped\")\n",
    "order.update_status(\"canceled\")  \n",
    "\n",
    "summary = order.get_order_summary()\n",
    "print(summary)\n"
   ]
  },
  {
   "cell_type": "markdown",
   "id": "7771699b",
   "metadata": {},
   "source": [
    "2. Inheritance:\n",
    "\n",
    "    Create a base class Employee with attributes like name, id, and a method get_details().\n",
    "\n",
    "    Inherit it in:\n",
    "\n",
    "    Manager class: add team_size\n",
    "\n",
    "    Developer class: add programming_language\n",
    "\n",
    "    Override get_details() in both subclasses to include their specific details."
   ]
  },
  {
   "cell_type": "code",
   "execution_count": 1,
   "id": "a7034efe",
   "metadata": {},
   "outputs": [
    {
     "name": "stdout",
     "output_type": "stream",
     "text": [
      "Name: Alice, ID: 1001, Team Size: 5\n",
      "Name: Bob, ID: 1002, Programming Language: Python\n"
     ]
    }
   ],
   "source": [
    "\n",
    "class Employee:\n",
    "    def __init__(self, name, emp_id):\n",
    "        self.name = name\n",
    "        self.emp_id = emp_id\n",
    "\n",
    "    def get_details(self):\n",
    "        return f\"Name: {self.name}, ID: {self.emp_id}\"\n",
    "\n",
    "class Manager(Employee):\n",
    "    def __init__(self, name, emp_id, team_size):\n",
    "        super().__init__(name, emp_id)\n",
    "        self.team_size = team_size\n",
    "\n",
    "    def get_details(self):\n",
    "        return f\"{super().get_details()}, Team Size: {self.team_size}\"\n",
    "\n",
    "class Developer(Employee):\n",
    "    def __init__(self, name, emp_id, programming_language):\n",
    "        super().__init__(name, emp_id)\n",
    "        self.programming_language = programming_language\n",
    "\n",
    "    def get_details(self):\n",
    "        return f\"{super().get_details()}, Programming Language: {self.programming_language}\"\n",
    "\n",
    "emp1 = Manager(\"Alice\", 1001, 5)\n",
    "emp2 = Developer(\"Bob\", 1002, \"Python\")\n",
    "\n",
    "print(emp1.get_details())  \n",
    "print(emp2.get_details())   \n"
   ]
  },
  {
   "cell_type": "markdown",
   "id": "e6a17e3e",
   "metadata": {},
   "source": [
    "3. Polymorphism:\n",
    "\n",
    "    Create a MessageSender class with a method send(). Inherit it in EmailSender and SMSSender and override send(). Use a loop to call send() on different objects.\n",
    "\n",
    "\n",
    " "
   ]
  },
  {
   "cell_type": "code",
   "execution_count": 3,
   "id": "10544e97",
   "metadata": {},
   "outputs": [
    {
     "name": "stdout",
     "output_type": "stream",
     "text": [
      "Sending an email message...\n",
      "Sending an SMS message...\n",
      "Sending an email message...\n"
     ]
    }
   ],
   "source": [
    "\n",
    "class MessageSender:\n",
    "    def send(self):\n",
    "        raise NotImplementedError(\"Subclasses must override send()\")\n",
    "\n",
    "\n",
    "class EmailSender(MessageSender):\n",
    "    def send(self):\n",
    "        print(\"Sending an email message...\")\n",
    "\n",
    "class SMSSender(MessageSender):\n",
    "    def send(self):\n",
    "        print(\"Sending an SMS message...\")\n",
    "\n",
    "senders = [EmailSender(), SMSSender(), EmailSender()]\n",
    "\n",
    "\n",
    "for sender in senders:\n",
    "    sender.send()\n",
    "\n"
   ]
  },
  {
   "cell_type": "markdown",
   "id": "0ac6eab0",
   "metadata": {},
   "source": [
    " Abstraction:\n",
    "\n",
    "    Create an abstract class Appliance with:\n",
    "    Abstract method: turn_on()\n",
    "    Abstract method: turn_off()\n",
    "    Then create two classes:\n",
    "    WashingMachine\n",
    "    Microwave\n",
    "    Each class should implement the turn_on() and turn_off() methods differently (e.g., display specific messages like \"Washing clothes...\" or \"Heating food...\")."
   ]
  },
  {
   "cell_type": "code",
   "execution_count": 4,
   "id": "0b3a7ff8",
   "metadata": {},
   "outputs": [
    {
     "name": "stdout",
     "output_type": "stream",
     "text": [
      "Washing Machine: Starting to wash clothes...\n",
      "Washing Machine: Stopping and draining water...\n",
      "Microwave: Heating food...\n",
      "Microwave: Stopping and cooling down...\n"
     ]
    }
   ],
   "source": [
    "from abc import ABC, abstractmethod\n",
    "\n",
    "class Appliance(ABC):\n",
    "    \n",
    "    @abstractmethod\n",
    "    def turn_on(self):\n",
    "        pass\n",
    "\n",
    "    @abstractmethod\n",
    "    def turn_off(self):\n",
    "        pass\n",
    "\n",
    "\n",
    "class WashingMachine(Appliance):\n",
    "    \n",
    "    def turn_on(self):\n",
    "        print(\"Washing Machine: Starting to wash clothes...\")\n",
    "\n",
    "    def turn_off(self):\n",
    "        print(\"Washing Machine: Stopping and draining water...\")\n",
    "\n",
    "class Microwave(Appliance):\n",
    "    \n",
    "    def turn_on(self):\n",
    "        print(\"Microwave: Heating food...\")\n",
    "\n",
    "    def turn_off(self):\n",
    "        print(\"Microwave: Stopping and cooling down...\")\n",
    "         \n",
    "appliances = [WashingMachine(), Microwave()]\n",
    "\n",
    "for appliance in appliances:\n",
    "    appliance.turn_on()\n",
    "    appliance.turn_off()\n",
    "\n"
   ]
  },
  {
   "cell_type": "markdown",
   "id": "b4ed0a19",
   "metadata": {},
   "source": [
    "5. All Pillars Combined:\n",
    "    Design classes for an online learning platform with:\n",
    "    Encapsulation in User class\n",
    "    Inheritance with Student and Instructor\n",
    "    Polymorphism using access_portal()\n",
    "    Abstraction with CourseMaterial class"
   ]
  },
  {
   "cell_type": "code",
   "execution_count": 6,
   "id": "b19e60b3",
   "metadata": {},
   "outputs": [
    {
     "name": "stdout",
     "output_type": "stream",
     "text": [
      "Accessing student dashboard...\n",
      "Accessing instructor dashboard...\n",
      "Playing video content...\n"
     ]
    }
   ],
   "source": [
    "\n",
    "class User:\n",
    "    def __init__(self, username, email):\n",
    "        self.__username = username      \n",
    "        self.__email = email            \n",
    "\n",
    "    def get_username(self):\n",
    "        return self.__username\n",
    "\n",
    "    def get_email(self):\n",
    "        return self.__email\n",
    "\n",
    "    def access_portal(self):\n",
    "        return \"Accessing user portal...\"\n",
    "\n",
    "\n",
    "class Student(User):\n",
    "    def access_portal(self):  \n",
    "        return \"Accessing student dashboard...\"\n",
    "\n",
    "class Instructor(User):\n",
    "    def access_portal(self):  \n",
    "        return \"Accessing instructor dashboard...\"\n",
    "\n",
    "\n",
    "from abc import ABC, abstractmethod\n",
    "\n",
    "class CourseMaterial(ABC):\n",
    "    @abstractmethod\n",
    "    def display_content(self):\n",
    "        pass\n",
    "\n",
    "class VideoMaterial(CourseMaterial):\n",
    "    def display_content(self):\n",
    "        return \"Playing video content...\"\n",
    "\n",
    "class TextMaterial(CourseMaterial):\n",
    "    def display_content(self):\n",
    "        return \"Displaying text content...\"\n",
    "\n",
    "\n",
    "s = Student(\"john123\", \"john@example.com\")\n",
    "i = Instructor(\"drsmith\", \"smith@example.com\")\n",
    "v = VideoMaterial()\n",
    "\n",
    "print(s.access_portal())      \n",
    "print(i.access_portal())      \n",
    "print(v.display_content())   \n"
   ]
  },
  {
   "cell_type": "code",
   "execution_count": null,
   "id": "12f31e42",
   "metadata": {},
   "outputs": [],
   "source": []
  }
 ],
 "metadata": {
  "kernelspec": {
   "display_name": "Python 3",
   "language": "python",
   "name": "python3"
  },
  "language_info": {
   "codemirror_mode": {
    "name": "ipython",
    "version": 3
   },
   "file_extension": ".py",
   "mimetype": "text/x-python",
   "name": "python",
   "nbconvert_exporter": "python",
   "pygments_lexer": "ipython3",
   "version": "3.13.5"
  }
 },
 "nbformat": 4,
 "nbformat_minor": 5
}
